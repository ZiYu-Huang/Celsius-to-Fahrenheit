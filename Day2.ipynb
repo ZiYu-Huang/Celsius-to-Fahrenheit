{
  "nbformat": 4,
  "nbformat_minor": 0,
  "metadata": {
    "colab": {
      "name": "Day2-numpy(1)基本介紹及使用",
      "provenance": [],
      "collapsed_sections": [],
      "include_colab_link": true
    },
    "kernelspec": {
      "name": "python3",
      "display_name": "Python 3"
    },
    "language_info": {
      "name": "python"
    }
  },
  "cells": [
    {
      "cell_type": "markdown",
      "metadata": {
        "id": "view-in-github",
        "colab_type": "text"
      },
      "source": [
        "<a href=\"https://colab.research.google.com/github/ZiYu-Huang/Practices-for-Beginners/blob/main/Day2.ipynb\" target=\"_parent\"><img src=\"https://colab.research.google.com/assets/colab-badge.svg\" alt=\"Open In Colab\"/></a>"
      ]
    },
    {
      "cell_type": "markdown",
      "source": [
        "#基本介紹及使用\n",
        "\n",
        "多維陣列+屬性shape、ndim、dtype"
      ],
      "metadata": {
        "id": "0lCBjfWul-kw"
      }
    },
    {
      "cell_type": "code",
      "metadata": {
        "id": "dvCfPkfToGIG"
      },
      "source": [
        "import numpy as np"
      ],
      "execution_count": 7,
      "outputs": []
    },
    {
      "cell_type": "markdown",
      "source": [
        "##array建立陣列"
      ],
      "metadata": {
        "id": "RgRro2ZMmIDO"
      }
    },
    {
      "cell_type": "code",
      "metadata": {
        "id": "MEJ6QTfb2unP"
      },
      "source": [
        "a=np.array([1,2,3])"
      ],
      "execution_count": 8,
      "outputs": []
    },
    {
      "cell_type": "code",
      "metadata": {
        "id": "F5kgzzFk2unR"
      },
      "source": [
        "b=np.array([['a','b','c'],['c','b','a']])"
      ],
      "execution_count": 9,
      "outputs": []
    },
    {
      "cell_type": "code",
      "metadata": {
        "id": "qeErAcCT2unR"
      },
      "source": [
        "c=np.array([ [123,'asd',456],['asd',2977,5021],[123,456,'test'] ]) #參數可接受任何序列物件"
      ],
      "execution_count": 10,
      "outputs": []
    },
    {
      "cell_type": "code",
      "metadata": {
        "colab": {
          "base_uri": "https://localhost:8080/"
        },
        "outputId": "1aa77e6c-5b3a-4747-8a25-20b05a84d950",
        "id": "QKgrwDim2unS"
      },
      "source": [
        "print('a=',a)\n",
        "print('b=',b)\n",
        "print('c=',c)"
      ],
      "execution_count": 11,
      "outputs": [
        {
          "output_type": "stream",
          "name": "stdout",
          "text": [
            "a= [1 2 3]\n",
            "b= [['a' 'b' 'c']\n",
            " ['c' 'b' 'a']]\n",
            "c= [['123' 'asd' '456']\n",
            " ['asd' '2977' '5021']\n",
            " ['123' '456' 'test']]\n"
          ]
        }
      ]
    },
    {
      "cell_type": "code",
      "metadata": {
        "id": "pvlaOuad2unT"
      },
      "source": [
        "test_list=[ [ [1,'two',3] , ['one',2,'three'] ] , [ [4,'five',6] , ['four',5,'six'] ] ] #也可將物件直接放入參數"
      ],
      "execution_count": 12,
      "outputs": []
    },
    {
      "cell_type": "code",
      "metadata": {
        "id": "0MjXB6sl2unU"
      },
      "source": [
        "d=np.array(test_list)"
      ],
      "execution_count": 13,
      "outputs": []
    },
    {
      "cell_type": "markdown",
      "source": [
        "##shape\n",
        "看維度，也可加入索引查維度"
      ],
      "metadata": {
        "id": "A8h-PjEtmo02"
      }
    },
    {
      "cell_type": "code",
      "metadata": {
        "colab": {
          "base_uri": "https://localhost:8080/"
        },
        "outputId": "c5664602-b852-4ba5-bbb7-458b2569a4cd",
        "id": "lFhDKLFv2unU"
      },
      "source": [
        "print('a.shape=',a.shape) #shape查看各維度  ps.這常常用到 背起來\n",
        "print('b.shape=',b.shape) \n",
        "print('c.shape=',c.shape) \n",
        "print('d.shape=',d.shape) "
      ],
      "execution_count": 14,
      "outputs": [
        {
          "output_type": "stream",
          "name": "stdout",
          "text": [
            "a.shape= (3,)\n",
            "b.shape= (2, 3)\n",
            "c.shape= (3, 3)\n",
            "d.shape= (2, 2, 3)\n"
          ]
        }
      ]
    },
    {
      "cell_type": "code",
      "metadata": {
        "colab": {
          "base_uri": "https://localhost:8080/"
        },
        "outputId": "b9e3dff5-6531-419d-bcea-0b5780e5e4cb",
        "id": "tnHEI6UM2unW"
      },
      "source": [
        "print(d.shape[0]) #shape後可加入索引 \n",
        "print(d.shape[1]) #row\n",
        "print(d.shape[2]) #col"
      ],
      "execution_count": 15,
      "outputs": [
        {
          "output_type": "stream",
          "name": "stdout",
          "text": [
            "2\n",
            "2\n",
            "3\n"
          ]
        }
      ]
    },
    {
      "cell_type": "markdown",
      "source": [
        "##ndim\n",
        "看維度數量"
      ],
      "metadata": {
        "id": "Deoqx-Bzm5no"
      }
    },
    {
      "cell_type": "code",
      "metadata": {
        "colab": {
          "base_uri": "https://localhost:8080/"
        },
        "outputId": "c711fe37-f5dd-4141-8338-05ea03882f68",
        "id": "HcsGIWi-2unX"
      },
      "source": [
        "print('a.ndim=',a.ndim) #ndim查看adarry的維度數量\n",
        "print('b.ndim=',b.ndim) \n",
        "print('c.ndim=',c.ndim) \n",
        "print('d.ndim=',d.ndim) "
      ],
      "execution_count": 16,
      "outputs": [
        {
          "output_type": "stream",
          "name": "stdout",
          "text": [
            "a.ndim= 1\n",
            "b.ndim= 2\n",
            "c.ndim= 2\n",
            "d.ndim= 3\n"
          ]
        }
      ]
    },
    {
      "cell_type": "markdown",
      "source": [
        "##dtype\n",
        "看資料型態，也可指定資料型態"
      ],
      "metadata": {
        "id": "ADqp353-nEy1"
      }
    },
    {
      "cell_type": "code",
      "metadata": {
        "colab": {
          "base_uri": "https://localhost:8080/"
        },
        "outputId": "06b34671-a1e2-44b9-aa8b-a018f7205239",
        "id": "SytEa11g2unX"
      },
      "source": [
        "print('a.dtype=',a.dtype) #dtype查看adarry裡的資料型態"
      ],
      "execution_count": 17,
      "outputs": [
        {
          "output_type": "stream",
          "name": "stdout",
          "text": [
            "a.dtype= int64\n"
          ]
        }
      ]
    },
    {
      "cell_type": "code",
      "metadata": {
        "colab": {
          "base_uri": "https://localhost:8080/"
        },
        "outputId": "be7eb236-f796-48cf-dc2b-092c46f1f020",
        "id": "ljCdR0_H2unY"
      },
      "source": [
        "e=np.array([12,23,34],dtype=np.float32) ##建立時在參數dtype選擇指定型態\n",
        "print(e.dtype)"
      ],
      "execution_count": 18,
      "outputs": [
        {
          "output_type": "stream",
          "name": "stdout",
          "text": [
            "float32\n"
          ]
        }
      ]
    },
    {
      "cell_type": "markdown",
      "source": [
        "##astype\n",
        "可以改變資料型態改變型態"
      ],
      "metadata": {
        "id": "jZ1Hb2cdnUGV"
      }
    },
    {
      "cell_type": "code",
      "metadata": {
        "colab": {
          "base_uri": "https://localhost:8080/"
        },
        "outputId": "230be608-cd66-4433-92a3-df4ac5018fc3",
        "id": "TGxyWvHO2unY"
      },
      "source": [
        "e=e.astype(np.int) #astype改變型態\n",
        "e.dtype"
      ],
      "execution_count": 19,
      "outputs": [
        {
          "output_type": "stream",
          "name": "stderr",
          "text": [
            "/usr/local/lib/python3.7/dist-packages/ipykernel_launcher.py:1: DeprecationWarning: `np.int` is a deprecated alias for the builtin `int`. To silence this warning, use `int` by itself. Doing this will not modify any behavior and is safe. When replacing `np.int`, you may wish to use e.g. `np.int64` or `np.int32` to specify the precision. If you wish to review your current use, check the release note link for additional information.\n",
            "Deprecated in NumPy 1.20; for more details and guidance: https://numpy.org/devdocs/release/1.20.0-notes.html#deprecations\n",
            "  \"\"\"Entry point for launching an IPython kernel.\n"
          ]
        },
        {
          "output_type": "execute_result",
          "data": {
            "text/plain": [
              "dtype('int64')"
            ]
          },
          "metadata": {},
          "execution_count": 19
        }
      ]
    }
  ]
}