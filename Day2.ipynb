{
  "nbformat": 4,
  "nbformat_minor": 0,
  "metadata": {
    "colab": {
      "name": "「Day2」的副本",
      "provenance": [],
      "collapsed_sections": [],
      "include_colab_link": true
    },
    "kernelspec": {
      "name": "python3",
      "display_name": "Python 3"
    },
    "language_info": {
      "name": "python"
    }
  },
  "cells": [
    {
      "cell_type": "markdown",
      "metadata": {
        "id": "view-in-github",
        "colab_type": "text"
      },
      "source": [
        "<a href=\"https://colab.research.google.com/github/ZiYu-Huang/Practices-for-Beginners/blob/main/Day2.ipynb\" target=\"_parent\"><img src=\"https://colab.research.google.com/assets/colab-badge.svg\" alt=\"Open In Colab\"/></a>"
      ]
    },
    {
      "cell_type": "code",
      "metadata": {
        "id": "dvCfPkfToGIG"
      },
      "source": [
        "import numpy as np"
      ],
      "execution_count": null,
      "outputs": []
    },
    {
      "cell_type": "code",
      "metadata": {
        "id": "92uIZUbd2unO"
      },
      "source": [
        "import numpy as np"
      ],
      "execution_count": null,
      "outputs": []
    },
    {
      "cell_type": "code",
      "metadata": {
        "id": "MEJ6QTfb2unP"
      },
      "source": [
        "#建立ndarray\n",
        "a=np.array([1,2,3])"
      ],
      "execution_count": null,
      "outputs": []
    },
    {
      "cell_type": "code",
      "metadata": {
        "id": "F5kgzzFk2unR"
      },
      "source": [
        "b=np.array([['a','b','c'],['c','b','a']])"
      ],
      "execution_count": null,
      "outputs": []
    },
    {
      "cell_type": "code",
      "metadata": {
        "id": "qeErAcCT2unR"
      },
      "source": [
        "c=np.array([ [123,'asd',456],['asd',2977,5021],[123,456,'test'] ])"
      ],
      "execution_count": null,
      "outputs": []
    },
    {
      "cell_type": "code",
      "metadata": {
        "colab": {
          "base_uri": "https://localhost:8080/"
        },
        "outputId": "fb6f4f0a-5f79-4f26-f3d8-87b533a976d0",
        "id": "QKgrwDim2unS"
      },
      "source": [
        "print('a=',a)\n",
        "print('b=',b)\n",
        "print('c=',c)"
      ],
      "execution_count": null,
      "outputs": [
        {
          "output_type": "stream",
          "text": [
            "a= [1 2 3]\n",
            "b= [['a' 'b' 'c']\n",
            " ['c' 'b' 'a']]\n",
            "c= [['123' 'asd' '456']\n",
            " ['asd' '2977' '5021']\n",
            " ['123' '456' 'test']]\n"
          ],
          "name": "stdout"
        }
      ]
    },
    {
      "cell_type": "code",
      "metadata": {
        "id": "pvlaOuad2unT"
      },
      "source": [
        "test_list=[ [ [1,'two',3] , ['one',2,'three'] ] , [ [4,'five',6] , ['four',5,'six'] ] ]"
      ],
      "execution_count": null,
      "outputs": []
    },
    {
      "cell_type": "code",
      "metadata": {
        "id": "0MjXB6sl2unU"
      },
      "source": [
        "d=np.array(test_list)"
      ],
      "execution_count": null,
      "outputs": []
    },
    {
      "cell_type": "code",
      "metadata": {
        "colab": {
          "base_uri": "https://localhost:8080/"
        },
        "outputId": "9d140f44-9893-4061-f282-14e454fc435b",
        "id": "lFhDKLFv2unU"
      },
      "source": [
        "print('a.shape=',a.shape) #shape查看各維度  ps.這常常用到 背起來\n",
        "print('b.shape=',b.shape) \n",
        "print('c.shape=',c.shape) \n",
        "print('d.shape=',d.shape) "
      ],
      "execution_count": null,
      "outputs": [
        {
          "output_type": "stream",
          "text": [
            "a.shape= (3,)\n",
            "b.shape= (2, 3)\n",
            "c.shape= (3, 3)\n",
            "d.shape= (2, 2, 3)\n"
          ],
          "name": "stdout"
        }
      ]
    },
    {
      "cell_type": "code",
      "metadata": {
        "colab": {
          "base_uri": "https://localhost:8080/"
        },
        "outputId": "44499db9-2fb3-4db0-ed42-9153788cd75b",
        "id": "tnHEI6UM2unW"
      },
      "source": [
        "print(d.shape[0]) #shape後可加入索引 \n",
        "print(d.shape[1]) #row\n",
        "print(d.shape[2]) #col"
      ],
      "execution_count": null,
      "outputs": [
        {
          "output_type": "stream",
          "text": [
            "2\n",
            "2\n",
            "3\n"
          ],
          "name": "stdout"
        }
      ]
    },
    {
      "cell_type": "code",
      "metadata": {
        "colab": {
          "base_uri": "https://localhost:8080/"
        },
        "outputId": "177e53a4-1f41-4486-b93a-d79f436ba7e0",
        "id": "HcsGIWi-2unX"
      },
      "source": [
        "print('a.ndim=',a.ndim) #ndim查看adarry的維度數量\n",
        "print('b.ndim=',b.ndim) \n",
        "print('c.ndim=',c.ndim) \n",
        "print('d.ndim=',d.ndim) "
      ],
      "execution_count": null,
      "outputs": [
        {
          "output_type": "stream",
          "text": [
            "a.ndim= 1\n",
            "b.ndim= 2\n",
            "c.ndim= 2\n",
            "d.ndim= 3\n"
          ],
          "name": "stdout"
        }
      ]
    },
    {
      "cell_type": "code",
      "metadata": {
        "colab": {
          "base_uri": "https://localhost:8080/"
        },
        "outputId": "34e842d3-6be8-4620-b275-4e3b6803ef64",
        "id": "SytEa11g2unX"
      },
      "source": [
        "print('a.dtype=',a.dtype) #dtype查看adarry裡的資料型態"
      ],
      "execution_count": null,
      "outputs": [
        {
          "output_type": "stream",
          "text": [
            "a.dtype= int64\n"
          ],
          "name": "stdout"
        }
      ]
    },
    {
      "cell_type": "code",
      "metadata": {
        "colab": {
          "base_uri": "https://localhost:8080/"
        },
        "outputId": "fea00979-e617-49fb-b609-308058bba823",
        "id": "ljCdR0_H2unY"
      },
      "source": [
        "e=np.array([12,23,34],dtype=np.float32) ##建立時在參數dtype選擇指定型態\n",
        "print(e.dtype)"
      ],
      "execution_count": null,
      "outputs": [
        {
          "output_type": "stream",
          "text": [
            "float32\n"
          ],
          "name": "stdout"
        }
      ]
    },
    {
      "cell_type": "code",
      "metadata": {
        "colab": {
          "base_uri": "https://localhost:8080/"
        },
        "outputId": "28212327-980b-4a16-f331-77d094fc524b",
        "id": "TGxyWvHO2unY"
      },
      "source": [
        "e=e.astype(np.int) #astype改變型態\n",
        "e.dtype"
      ],
      "execution_count": null,
      "outputs": [
        {
          "output_type": "execute_result",
          "data": {
            "text/plain": [
              "dtype('int64')"
            ]
          },
          "metadata": {},
          "execution_count": 13
        }
      ]
    },
    {
      "cell_type": "code",
      "metadata": {
        "id": "M2tE7qgtoJKT"
      },
      "source": [
        "#建立ndarray\n",
        "a=np.array([1,2,3])"
      ],
      "execution_count": null,
      "outputs": []
    },
    {
      "cell_type": "code",
      "metadata": {
        "id": "YtXwDKGtp52D"
      },
      "source": [
        "b=np.array([['a','b','c'],['c','b','a']])"
      ],
      "execution_count": null,
      "outputs": []
    },
    {
      "cell_type": "code",
      "metadata": {
        "id": "Byb2c8W5qI06"
      },
      "source": [
        "c=np.array([ [123,'asd',456],['asd',2977,5021],[123,456,'test'] ])"
      ],
      "execution_count": null,
      "outputs": []
    },
    {
      "cell_type": "code",
      "metadata": {
        "colab": {
          "base_uri": "https://localhost:8080/"
        },
        "id": "dWkClJMtuiAr",
        "outputId": "fb6f4f0a-5f79-4f26-f3d8-87b533a976d0"
      },
      "source": [
        "print('a=',a)\n",
        "print('b=',b)\n",
        "print('c=',c)"
      ],
      "execution_count": null,
      "outputs": [
        {
          "output_type": "stream",
          "text": [
            "a= [1 2 3]\n",
            "b= [['a' 'b' 'c']\n",
            " ['c' 'b' 'a']]\n",
            "c= [['123' 'asd' '456']\n",
            " ['asd' '2977' '5021']\n",
            " ['123' '456' 'test']]\n"
          ],
          "name": "stdout"
        }
      ]
    },
    {
      "cell_type": "code",
      "metadata": {
        "id": "2j3RicY3qp4i"
      },
      "source": [
        "test_list=[ [ [1,'two',3] , ['one',2,'three'] ] , [ [4,'five',6] , ['four',5,'six'] ] ]"
      ],
      "execution_count": null,
      "outputs": []
    },
    {
      "cell_type": "code",
      "metadata": {
        "id": "bSc6WdnIq2Gi"
      },
      "source": [
        "d=np.array(test_list)"
      ],
      "execution_count": null,
      "outputs": []
    },
    {
      "cell_type": "code",
      "metadata": {
        "colab": {
          "base_uri": "https://localhost:8080/"
        },
        "id": "hRsuk5TprCJC",
        "outputId": "9d140f44-9893-4061-f282-14e454fc435b"
      },
      "source": [
        "print('a.shape=',a.shape) #shape查看各維度  ps.這常常用到 背起來\n",
        "print('b.shape=',b.shape) \n",
        "print('c.shape=',c.shape) \n",
        "print('d.shape=',d.shape) "
      ],
      "execution_count": null,
      "outputs": [
        {
          "output_type": "stream",
          "text": [
            "a.shape= (3,)\n",
            "b.shape= (2, 3)\n",
            "c.shape= (3, 3)\n",
            "d.shape= (2, 2, 3)\n"
          ],
          "name": "stdout"
        }
      ]
    },
    {
      "cell_type": "code",
      "metadata": {
        "colab": {
          "base_uri": "https://localhost:8080/"
        },
        "id": "a0l8yiSU1P-p",
        "outputId": "44499db9-2fb3-4db0-ed42-9153788cd75b"
      },
      "source": [
        "print(d.shape[0]) #shape後可加入索引\n",
        "print(d.shape[1]) #row\n",
        "print(d.shape[2]) #col"
      ],
      "execution_count": null,
      "outputs": [
        {
          "output_type": "stream",
          "text": [
            "2\n",
            "2\n",
            "3\n"
          ],
          "name": "stdout"
        }
      ]
    },
    {
      "cell_type": "code",
      "metadata": {
        "colab": {
          "base_uri": "https://localhost:8080/"
        },
        "id": "x5GVRSu7xpAS",
        "outputId": "177e53a4-1f41-4486-b93a-d79f436ba7e0"
      },
      "source": [
        "print('a.ndim=',a.ndim) #ndim查看adarry的維度數量\n",
        "print('b.ndim=',b.ndim) \n",
        "print('c.ndim=',c.ndim) \n",
        "print('d.ndim=',d.ndim) "
      ],
      "execution_count": null,
      "outputs": [
        {
          "output_type": "stream",
          "text": [
            "a.ndim= 1\n",
            "b.ndim= 2\n",
            "c.ndim= 2\n",
            "d.ndim= 3\n"
          ],
          "name": "stdout"
        }
      ]
    },
    {
      "cell_type": "code",
      "metadata": {
        "colab": {
          "base_uri": "https://localhost:8080/"
        },
        "id": "kv77-krGyiLV",
        "outputId": "34e842d3-6be8-4620-b275-4e3b6803ef64"
      },
      "source": [
        "print('a.dtype=',a.dtype) #dtype查看adarry裡的資料型態"
      ],
      "execution_count": null,
      "outputs": [
        {
          "output_type": "stream",
          "text": [
            "a.dtype= int64\n"
          ],
          "name": "stdout"
        }
      ]
    },
    {
      "cell_type": "code",
      "metadata": {
        "colab": {
          "base_uri": "https://localhost:8080/"
        },
        "id": "u3LM9e2wz64i",
        "outputId": "fea00979-e617-49fb-b609-308058bba823"
      },
      "source": [
        "e=np.array([12,23,34],dtype=np.float32) ##建立時在參數dtype選擇指定型態\n",
        "print(e.dtype)"
      ],
      "execution_count": null,
      "outputs": [
        {
          "output_type": "stream",
          "text": [
            "float32\n"
          ],
          "name": "stdout"
        }
      ]
    },
    {
      "cell_type": "code",
      "metadata": {
        "colab": {
          "base_uri": "https://localhost:8080/"
        },
        "id": "5naLKbhEM-OP",
        "outputId": "28212327-980b-4a16-f331-77d094fc524b"
      },
      "source": [
        "e=e.astype(np.int) #astype改變型態\n",
        "e.dtype"
      ],
      "execution_count": null,
      "outputs": [
        {
          "output_type": "execute_result",
          "data": {
            "text/plain": [
              "dtype('int64')"
            ]
          },
          "metadata": {},
          "execution_count": 13
        }
      ]
    }
  ]
}