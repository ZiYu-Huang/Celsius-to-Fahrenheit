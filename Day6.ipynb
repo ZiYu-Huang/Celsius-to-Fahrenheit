{
  "nbformat": 4,
  "nbformat_minor": 0,
  "metadata": {
    "colab": {
      "name": "Day6",
      "provenance": [],
      "collapsed_sections": [],
      "include_colab_link": true
    },
    "kernelspec": {
      "name": "python3",
      "display_name": "Python 3"
    },
    "language_info": {
      "name": "python"
    }
  },
  "cells": [
    {
      "cell_type": "markdown",
      "metadata": {
        "id": "view-in-github",
        "colab_type": "text"
      },
      "source": [
        "<a href=\"https://colab.research.google.com/github/ZiYu-Huang/Practices-for-Beginners/blob/main/Day6.ipynb\" target=\"_parent\"><img src=\"https://colab.research.google.com/assets/colab-badge.svg\" alt=\"Open In Colab\"/></a>"
      ]
    },
    {
      "cell_type": "code",
      "metadata": {
        "id": "LIYwoihWdRIK"
      },
      "source": [
        "import pandas as pd"
      ],
      "execution_count": 1,
      "outputs": []
    },
    {
      "cell_type": "markdown",
      "source": [
        "先由pandas具有的基本資料結構Series與DataFrame來做介紹"
      ],
      "metadata": {
        "id": "OnhErM6x-ipP"
      }
    },
    {
      "cell_type": "markdown",
      "metadata": {
        "id": "AoyoOAzzBLp-"
      },
      "source": [
        "#Series\n",
        "像是一維陣列物件，但具有index(資料標籤)"
      ]
    },
    {
      "cell_type": "code",
      "metadata": {
        "id": "lsAOV9BfsvlY"
      },
      "source": [
        "test = pd.Series(['one','two','three','four']) #建立Series時用到pandas的Series方法，後方參數需要放入序列物件"
      ],
      "execution_count": 19,
      "outputs": []
    },
    {
      "cell_type": "code",
      "metadata": {
        "colab": {
          "base_uri": "https://localhost:8080/"
        },
        "id": "igRdEw3KtBpH",
        "outputId": "769a9c57-ed2f-4c5b-f863-33a469bf129b"
      },
      "source": [
        "test #輸出左邊那排0~3為資料標籤，右邊那排則為我們放入的值\n",
        "     #若無指定index，則為0~資料個數"
      ],
      "execution_count": 25,
      "outputs": [
        {
          "output_type": "execute_result",
          "data": {
            "text/plain": [
              "0      one\n",
              "1      two\n",
              "2    three\n",
              "3     four\n",
              "dtype: object"
            ]
          },
          "metadata": {},
          "execution_count": 25
        }
      ]
    },
    {
      "cell_type": "code",
      "metadata": {
        "colab": {
          "base_uri": "https://localhost:8080/"
        },
        "id": "uqQ6tmFsuhpB",
        "outputId": "96f77932-c0f4-4ba1-aca5-44a302717e90"
      },
      "source": [
        "print(test[0]) #以index為索引來取得值\n",
        "print(test[1])\n",
        "print(test[2])\n",
        "print(test[3])"
      ],
      "execution_count": 7,
      "outputs": [
        {
          "output_type": "stream",
          "name": "stdout",
          "text": [
            "one\n",
            "two\n",
            "three\n",
            "four\n"
          ]
        }
      ]
    },
    {
      "cell_type": "code",
      "metadata": {
        "id": "SD2DQYHSu-0I"
      },
      "source": [
        "test = pd.Series(['one','two','three','four'],index=['A','B','C','D']) #建立.Series可指定index"
      ],
      "execution_count": 26,
      "outputs": []
    },
    {
      "cell_type": "code",
      "metadata": {
        "colab": {
          "base_uri": "https://localhost:8080/"
        },
        "id": "tFmWIh4mvago",
        "outputId": "00bb361f-8f41-4e08-dc04-91f999974b0d"
      },
      "source": [
        "test"
      ],
      "execution_count": 27,
      "outputs": [
        {
          "output_type": "execute_result",
          "data": {
            "text/plain": [
              "A      one\n",
              "B      two\n",
              "C    three\n",
              "D     four\n",
              "dtype: object"
            ]
          },
          "metadata": {},
          "execution_count": 27
        }
      ]
    },
    {
      "cell_type": "code",
      "metadata": {
        "colab": {
          "base_uri": "https://localhost:8080/"
        },
        "id": "4jqIMToywONg",
        "outputId": "f0034670-b8c8-498d-a224-06d9efc4a315"
      },
      "source": [
        "print(test['A'])\n",
        "print(test['C'])"
      ],
      "execution_count": 10,
      "outputs": [
        {
          "output_type": "stream",
          "name": "stdout",
          "text": [
            "one\n",
            "three\n"
          ]
        }
      ]
    },
    {
      "cell_type": "code",
      "metadata": {
        "colab": {
          "base_uri": "https://localhost:8080/"
        },
        "id": "IdZFSm3p2U4o",
        "outputId": "0b525811-2a94-4ed3-c135-075a27a95b47"
      },
      "source": [
        "test.index #取得Series的index"
      ],
      "execution_count": 11,
      "outputs": [
        {
          "output_type": "execute_result",
          "data": {
            "text/plain": [
              "Index(['A', 'B', 'C', 'D'], dtype='object')"
            ]
          },
          "metadata": {},
          "execution_count": 11
        }
      ]
    },
    {
      "cell_type": "code",
      "metadata": {
        "colab": {
          "base_uri": "https://localhost:8080/"
        },
        "id": "ROU1F6U52rJf",
        "outputId": "085f89b6-cc41-40b5-82cf-dce001c5bd09"
      },
      "source": [
        "test.values #取得Series的值"
      ],
      "execution_count": 28,
      "outputs": [
        {
          "output_type": "execute_result",
          "data": {
            "text/plain": [
              "array(['one', 'two', 'three', 'four'], dtype=object)"
            ]
          },
          "metadata": {},
          "execution_count": 28
        }
      ]
    },
    {
      "cell_type": "code",
      "metadata": {
        "id": "DtJVdmsUKTry"
      },
      "source": [
        "import numpy as np\n",
        "test = pd.Series([1,2,3,4],dtype=float) #指定dtype，只需在dtype參數傳入資料型態 #1.22.0版本是dtype = np.float"
      ],
      "execution_count": 47,
      "outputs": []
    },
    {
      "cell_type": "code",
      "metadata": {
        "colab": {
          "base_uri": "https://localhost:8080/"
        },
        "id": "4dR4rGFPKk1g",
        "outputId": "0add2e91-d0e4-4001-91a7-1a422bdd1288"
      },
      "source": [
        "test.dtype"
      ],
      "execution_count": 50,
      "outputs": [
        {
          "output_type": "execute_result",
          "data": {
            "text/plain": [
              "dtype('float64')"
            ]
          },
          "metadata": {},
          "execution_count": 50
        }
      ]
    },
    {
      "cell_type": "code",
      "metadata": {
        "colab": {
          "base_uri": "https://localhost:8080/"
        },
        "id": "dpQEXpHbKshY",
        "outputId": "d7245eab-9aad-46e3-e526-6ee1d71f469c"
      },
      "source": [
        "test.astype(int)   #astype可改變原資料型態 #1.22.0版本是dtype = np.long"
      ],
      "execution_count": 52,
      "outputs": [
        {
          "output_type": "execute_result",
          "data": {
            "text/plain": [
              "0    1\n",
              "1    2\n",
              "2    3\n",
              "3    4\n",
              "dtype: int64"
            ]
          },
          "metadata": {},
          "execution_count": 52
        }
      ]
    },
    {
      "cell_type": "markdown",
      "metadata": {
        "id": "8PXV9IYy69Pe"
      },
      "source": [
        "##操作示範\n",
        "能像之前介紹過操作numpy方式來操作Series，索引、布林索引、全域函式等\n"
      ]
    },
    {
      "cell_type": "code",
      "metadata": {
        "colab": {
          "base_uri": "https://localhost:8080/"
        },
        "id": "bfoaMcqT4Bjf",
        "outputId": "a10b2bd4-ee77-4f0b-9bbd-cffa42d97868"
      },
      "source": [
        "test = pd.Series([11,22,33,44],index=['A','B','C','D'])\n",
        "test"
      ],
      "execution_count": 53,
      "outputs": [
        {
          "output_type": "execute_result",
          "data": {
            "text/plain": [
              "A    11\n",
              "B    22\n",
              "C    33\n",
              "D    44\n",
              "dtype: int64"
            ]
          },
          "metadata": {},
          "execution_count": 53
        }
      ]
    },
    {
      "cell_type": "code",
      "metadata": {
        "colab": {
          "base_uri": "https://localhost:8080/"
        },
        "id": "nkYsHh1r5nmH",
        "outputId": "77153cf9-2d73-458f-b0a6-4c4324b35702"
      },
      "source": [
        "test[test>30] #布林索引"
      ],
      "execution_count": 54,
      "outputs": [
        {
          "output_type": "execute_result",
          "data": {
            "text/plain": [
              "C    33\n",
              "D    44\n",
              "dtype: int64"
            ]
          },
          "metadata": {},
          "execution_count": 54
        }
      ]
    },
    {
      "cell_type": "code",
      "metadata": {
        "colab": {
          "base_uri": "https://localhost:8080/"
        },
        "id": "qNsUZa7x6SRH",
        "outputId": "86783902-c753-4afe-c900-3326f85478e9"
      },
      "source": [
        "test['A']=2 #改值\n",
        "test"
      ],
      "execution_count": 55,
      "outputs": [
        {
          "output_type": "execute_result",
          "data": {
            "text/plain": [
              "A     2\n",
              "B    22\n",
              "C    33\n",
              "D    44\n",
              "dtype: int64"
            ]
          },
          "metadata": {},
          "execution_count": 55
        }
      ]
    },
    {
      "cell_type": "code",
      "metadata": {
        "colab": {
          "base_uri": "https://localhost:8080/"
        },
        "id": "TvUy82jp6ebD",
        "outputId": "d8e4f1dc-1f40-478d-e008-ce5b588faa4b"
      },
      "source": [
        "test+1"
      ],
      "execution_count": null,
      "outputs": [
        {
          "output_type": "execute_result",
          "data": {
            "text/plain": [
              "A     3\n",
              "B    23\n",
              "C    34\n",
              "D    45\n",
              "dtype: int64"
            ]
          },
          "metadata": {},
          "execution_count": 46
        }
      ]
    },
    {
      "cell_type": "code",
      "metadata": {
        "colab": {
          "base_uri": "https://localhost:8080/"
        },
        "id": "5Nk3863e6mWL",
        "outputId": "60550d10-749f-4104-d6b3-1ae9f40c6b31"
      },
      "source": [
        "import numpy as np\n",
        "np.square(test)"
      ],
      "execution_count": null,
      "outputs": [
        {
          "output_type": "execute_result",
          "data": {
            "text/plain": [
              "A       4\n",
              "B     484\n",
              "C    1089\n",
              "D    1936\n",
              "dtype: int64"
            ]
          },
          "metadata": {},
          "execution_count": 47
        }
      ]
    },
    {
      "cell_type": "markdown",
      "metadata": {
        "id": "-vcq_B6FAbXf"
      },
      "source": [
        "----------------------------------------------------------"
      ]
    }
  ]
}