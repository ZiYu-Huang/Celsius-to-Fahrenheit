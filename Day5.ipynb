{
  "nbformat": 4,
  "nbformat_minor": 0,
  "metadata": {
    "colab": {
      "name": "Day5",
      "provenance": [],
      "collapsed_sections": [],
      "include_colab_link": true
    },
    "kernelspec": {
      "name": "python3",
      "display_name": "Python 3"
    },
    "language_info": {
      "name": "python"
    }
  },
  "cells": [
    {
      "cell_type": "markdown",
      "metadata": {
        "id": "view-in-github",
        "colab_type": "text"
      },
      "source": [
        "<a href=\"https://colab.research.google.com/github/ZiYu-Huang/Practices-for-Beginners/blob/main/Day5.ipynb\" target=\"_parent\"><img src=\"https://colab.research.google.com/assets/colab-badge.svg\" alt=\"Open In Colab\"/></a>"
      ]
    },
    {
      "cell_type": "code",
      "metadata": {
        "id": "qAZDussfsU_C"
      },
      "source": [
        "import numpy as np"
      ],
      "execution_count": 2,
      "outputs": []
    },
    {
      "cell_type": "markdown",
      "metadata": {
        "id": "diIW0hMqMqgB"
      },
      "source": [
        "#向量化\n",
        "'''\n",
        "相同大小的陣列之間進行運算，稱作為 向量化，\n",
        "即同時對整批的資料一起做運算、\n",
        "對相同位置的數值之間做運算\n",
        "'''"
      ]
    },
    {
      "cell_type": "code",
      "metadata": {
        "id": "pn2sPIocMxBW"
      },
      "source": [
        "test_1 = np.array([[1,2,3],\n",
        "          [2,3,4]])\n",
        "test_2 = np.array([[-1,-2,-3],\n",
        "          [-2,-3,-4]])"
      ],
      "execution_count": 3,
      "outputs": []
    },
    {
      "cell_type": "code",
      "metadata": {
        "colab": {
          "base_uri": "https://localhost:8080/"
        },
        "id": "oDGECHrRsuyj",
        "outputId": "8da33902-367f-42e4-8229-c4d9632029f7"
      },
      "source": [
        "test_1 + test_2  ##輸出結果為[[1+(-1),2+(-2),3+(-3)],\n",
        "           #     [2+(-2),3+(-3),4+(-4)]]] "
      ],
      "execution_count": 4,
      "outputs": [
        {
          "output_type": "execute_result",
          "data": {
            "text/plain": [
              "array([[0, 0, 0],\n",
              "       [0, 0, 0]])"
            ]
          },
          "metadata": {},
          "execution_count": 4
        }
      ]
    },
    {
      "cell_type": "code",
      "metadata": {
        "colab": {
          "base_uri": "https://localhost:8080/"
        },
        "id": "PUGtYkSHsnmB",
        "outputId": "12dbb7f9-53d0-400f-c910-2db5e70752c3"
      },
      "source": [
        "test_1 - test_2  ##輸出結果為[[1-(-1),2-(-2),3-(-3)],\n",
        "           #     [2-(-2),3-(-3),4-(-4)]]] "
      ],
      "execution_count": null,
      "outputs": [
        {
          "output_type": "execute_result",
          "data": {
            "text/plain": [
              "array([[2, 4, 6],\n",
              "       [4, 6, 8]])"
            ]
          },
          "metadata": {},
          "execution_count": 50
        }
      ]
    },
    {
      "cell_type": "markdown",
      "source": [
        "###廣播\n",
        "######不同大小的陣列之間進行運算，稱作為 廣播"
      ],
      "metadata": {
        "id": "A3dLwN7D3xmh"
      }
    },
    {
      "cell_type": "code",
      "metadata": {
        "id": "XQqm6QyxsuUL"
      },
      "source": [
        "test_1 = np.array([[1,2,3],[2,3,4]]) #shape(3,3)的陣列\n",
        "test_2 = np.array([-1,-2,-3])    #shape為(3)的陣列"
      ],
      "execution_count": 7,
      "outputs": []
    },
    {
      "cell_type": "code",
      "metadata": {
        "colab": {
          "base_uri": "https://localhost:8080/"
        },
        "id": "JXtsHm-ZI1ph",
        "outputId": "9c49d145-6cdf-46e5-b9a6-7878659ae69a"
      },
      "source": [
        "test_1 + test_2        #當此兩者不同大小陣列間做運算時，test_3會每一個raw(列)分別對test_4做運算"
      ],
      "execution_count": 9,
      "outputs": [
        {
          "output_type": "execute_result",
          "data": {
            "text/plain": [
              "array([[0, 0, 0],\n",
              "       [1, 1, 1]])"
            ]
          },
          "metadata": {},
          "execution_count": 9
        }
      ]
    },
    {
      "cell_type": "code",
      "metadata": {
        "colab": {
          "base_uri": "https://localhost:8080/"
        },
        "id": "PAP3F1nfI2Xw",
        "outputId": "261890fe-3fb6-41df-a36a-0da85c79b186"
      },
      "source": [
        "test_1 - test_2"
      ],
      "execution_count": null,
      "outputs": [
        {
          "output_type": "execute_result",
          "data": {
            "text/plain": [
              "array([[2, 4, 6],\n",
              "       [3, 5, 7]])"
            ]
          },
          "metadata": {},
          "execution_count": 53
        }
      ]
    },
    {
      "cell_type": "code",
      "metadata": {
        "colab": {
          "base_uri": "https://localhost:8080/"
        },
        "id": "WJPFg2O0TPEx",
        "outputId": "54cf557a-50ff-4796-f278-6e9900f8fc1e"
      },
      "source": [
        "test_0 = np.array([1,2,3,4,5,6])\n",
        "test_0 + 1            #也可以同時對一個數值做運算"
      ],
      "execution_count": null,
      "outputs": [
        {
          "output_type": "execute_result",
          "data": {
            "text/plain": [
              "array([2, 3, 4, 5, 6, 7])"
            ]
          },
          "metadata": {},
          "execution_count": 59
        }
      ]
    },
    {
      "cell_type": "code",
      "metadata": {
        "id": "9McT0-S1MyyN"
      },
      "source": [
        "test_3 = np.array([[1,2,3],[2,3,4],[4,5,6]])\n",
        "test_4 = np.array([-1,-2,-3])"
      ],
      "execution_count": null,
      "outputs": []
    },
    {
      "cell_type": "code",
      "metadata": {
        "colab": {
          "base_uri": "https://localhost:8080/"
        },
        "id": "QcPl8DkRNJVb",
        "outputId": "a9c52d9d-73f6-4f14-80b5-17de26b952e0"
      },
      "source": [
        "test_3 + test_4  ##輸出結果為[[1+(-1),2+(-2),3+(-3)], test_3第一個raw對test_4做運算\n",
        "           #     [2+(-1),3+(-2),4+(-3)],  test_3第二個raw對test_4做運算\n",
        "           #     [3+(-1),4+(-2),5+(-3)],  test_3第三個raw對test_4做運算          "
      ],
      "execution_count": null,
      "outputs": [
        {
          "output_type": "execute_result",
          "data": {
            "text/plain": [
              "array([[0, 0, 0],\n",
              "       [1, 1, 1],\n",
              "       [3, 3, 3]])"
            ]
          },
          "metadata": {},
          "execution_count": 55
        }
      ]
    },
    {
      "cell_type": "markdown",
      "metadata": {
        "id": "OkT1caBXQLgi"
      },
      "source": [
        "#全域函式\n",
        "#####對於一般常見的運算函式(如:abs取絕對值、log、square平方)做向量化的動作"
      ]
    },
    {
      "cell_type": "code",
      "metadata": {
        "id": "ydLaK6ZAQOmw"
      },
      "source": [
        "test_5 = np.array([-1,2,-3,4,-5,6,-7,8])"
      ],
      "execution_count": null,
      "outputs": []
    },
    {
      "cell_type": "code",
      "metadata": {
        "colab": {
          "base_uri": "https://localhost:8080/"
        },
        "id": "TbMnMtuYQaaA",
        "outputId": "3a7f78f7-1ea4-4e0b-9334-39dd991698b0"
      },
      "source": [
        "np.square(test_5) #平方"
      ],
      "execution_count": null,
      "outputs": [
        {
          "output_type": "execute_result",
          "data": {
            "text/plain": [
              "array([ 1,  4,  9, 16, 25, 36, 49, 64])"
            ]
          },
          "metadata": {},
          "execution_count": 57
        }
      ]
    },
    {
      "cell_type": "code",
      "metadata": {
        "colab": {
          "base_uri": "https://localhost:8080/"
        },
        "id": "dQ3b8N9bQvNI",
        "outputId": "3f483372-ed25-417b-a870-61e75435012a"
      },
      "source": [
        "np.abs(test_5) #絕對值"
      ],
      "execution_count": null,
      "outputs": [
        {
          "output_type": "execute_result",
          "data": {
            "text/plain": [
              "array([1, 2, 3, 4, 5, 6, 7, 8])"
            ]
          },
          "metadata": {},
          "execution_count": 58
        }
      ]
    }
  ]
}